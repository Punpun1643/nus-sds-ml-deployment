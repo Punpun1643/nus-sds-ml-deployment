{
  "cells": [
    {
      "cell_type": "code",
      "source": [
        "from google.colab import drive\n",
        "drive.mount('/content/drive')"
      ],
      "metadata": {
        "colab": {
          "base_uri": "https://localhost:8080/"
        },
        "id": "NZgN1ewsx9T1",
        "outputId": "470bcee4-30a5-40ef-b099-8f44475bff78"
      },
      "execution_count": 12,
      "outputs": [
        {
          "output_type": "stream",
          "name": "stdout",
          "text": [
            "Drive already mounted at /content/drive; to attempt to forcibly remount, call drive.mount(\"/content/drive\", force_remount=True).\n"
          ]
        }
      ]
    },
    {
      "cell_type": "code",
      "source": [
        "# pip install textract\n"
      ],
      "metadata": {
        "colab": {
          "base_uri": "https://localhost:8080/"
        },
        "id": "qsYF2fzeyoPp",
        "outputId": "a393dc5e-6414-4357-c0c3-50da310c4341"
      },
      "execution_count": 13,
      "outputs": [
        {
          "output_type": "stream",
          "name": "stdout",
          "text": [
            "Requirement already satisfied: textract in /usr/local/lib/python3.10/dist-packages (1.6.5)\n",
            "Requirement already satisfied: argcomplete~=1.10.0 in /usr/local/lib/python3.10/dist-packages (from textract) (1.10.3)\n",
            "Requirement already satisfied: beautifulsoup4~=4.8.0 in /usr/local/lib/python3.10/dist-packages (from textract) (4.8.2)\n",
            "Requirement already satisfied: chardet==3.* in /usr/local/lib/python3.10/dist-packages (from textract) (3.0.4)\n",
            "Requirement already satisfied: docx2txt~=0.8 in /usr/local/lib/python3.10/dist-packages (from textract) (0.8)\n",
            "Requirement already satisfied: extract-msg<=0.29.* in /usr/local/lib/python3.10/dist-packages (from textract) (0.28.7)\n",
            "Requirement already satisfied: pdfminer.six==20191110 in /usr/local/lib/python3.10/dist-packages (from textract) (20191110)\n",
            "Requirement already satisfied: python-pptx~=0.6.18 in /usr/local/lib/python3.10/dist-packages (from textract) (0.6.22)\n",
            "Requirement already satisfied: six~=1.12.0 in /usr/local/lib/python3.10/dist-packages (from textract) (1.12.0)\n",
            "Requirement already satisfied: SpeechRecognition~=3.8.1 in /usr/local/lib/python3.10/dist-packages (from textract) (3.8.1)\n",
            "Requirement already satisfied: xlrd~=1.2.0 in /usr/local/lib/python3.10/dist-packages (from textract) (1.2.0)\n",
            "Requirement already satisfied: pycryptodome in /usr/local/lib/python3.10/dist-packages (from pdfminer.six==20191110->textract) (3.19.0)\n",
            "Requirement already satisfied: sortedcontainers in /usr/local/lib/python3.10/dist-packages (from pdfminer.six==20191110->textract) (2.4.0)\n",
            "Requirement already satisfied: soupsieve>=1.2 in /usr/local/lib/python3.10/dist-packages (from beautifulsoup4~=4.8.0->textract) (2.5)\n",
            "Requirement already satisfied: imapclient==2.1.0 in /usr/local/lib/python3.10/dist-packages (from extract-msg<=0.29.*->textract) (2.1.0)\n",
            "Requirement already satisfied: olefile>=0.46 in /usr/local/lib/python3.10/dist-packages (from extract-msg<=0.29.*->textract) (0.46)\n",
            "Requirement already satisfied: tzlocal>=2.1 in /usr/local/lib/python3.10/dist-packages (from extract-msg<=0.29.*->textract) (5.0.1)\n",
            "Requirement already satisfied: compressed-rtf>=1.0.6 in /usr/local/lib/python3.10/dist-packages (from extract-msg<=0.29.*->textract) (1.0.6)\n",
            "Requirement already satisfied: ebcdic>=1.1.1 in /usr/local/lib/python3.10/dist-packages (from extract-msg<=0.29.*->textract) (1.1.1)\n",
            "Requirement already satisfied: lxml>=3.1.0 in /usr/local/lib/python3.10/dist-packages (from python-pptx~=0.6.18->textract) (4.9.3)\n",
            "Requirement already satisfied: Pillow<=9.5.0,>=3.3.2 in /usr/local/lib/python3.10/dist-packages (from python-pptx~=0.6.18->textract) (9.4.0)\n",
            "Requirement already satisfied: XlsxWriter>=0.5.7 in /usr/local/lib/python3.10/dist-packages (from python-pptx~=0.6.18->textract) (3.1.6)\n"
          ]
        }
      ]
    },
    {
      "cell_type": "code",
      "execution_count": 14,
      "metadata": {
        "id": "7ORvJN5uxLrz"
      },
      "outputs": [],
      "source": [
        "### Resume Datatset\n",
        "\n",
        "# Required libraries/ packages\n",
        "import pandas as pd\n",
        "import re\n",
        "import textract\n",
        "from sklearn.model_selection import train_test_split\n",
        "from sklearn.feature_extraction.text import TfidfVectorizer\n",
        "from sklearn import preprocessing\n",
        "from sklearn.ensemble import GradientBoostingClassifier\n",
        "from sklearn.metrics import classification_report\n"
      ]
    },
    {
      "cell_type": "code",
      "execution_count": 15,
      "metadata": {
        "colab": {
          "base_uri": "https://localhost:8080/"
        },
        "id": "FwmOYyd6xLr0",
        "outputId": "1c96ec02-3cc0-4306-f3bf-2d4d5d378382"
      },
      "outputs": [
        {
          "output_type": "stream",
          "name": "stdout",
          "text": [
            "<class 'pandas.core.frame.DataFrame'>\n",
            "RangeIndex: 962 entries, 0 to 961\n",
            "Data columns (total 2 columns):\n",
            " #   Column    Non-Null Count  Dtype \n",
            "---  ------    --------------  ----- \n",
            " 0   Category  962 non-null    object\n",
            " 1   Resume    962 non-null    object\n",
            "dtypes: object(2)\n",
            "memory usage: 15.2+ KB\n"
          ]
        },
        {
          "output_type": "execute_result",
          "data": {
            "text/plain": [
              "Java Developer               0.087318\n",
              "Testing                      0.072765\n",
              "DevOps Engineer              0.057173\n",
              "Python Developer             0.049896\n",
              "Web Designing                0.046778\n",
              "HR                           0.045738\n",
              "Hadoop                       0.043659\n",
              "Blockchain                   0.041580\n",
              "ETL Developer                0.041580\n",
              "Operations Manager           0.041580\n",
              "Data Science                 0.041580\n",
              "Sales                        0.041580\n",
              "Mechanical Engineer          0.041580\n",
              "Arts                         0.037422\n",
              "Database                     0.034304\n",
              "Electrical Engineering       0.031185\n",
              "Health and fitness           0.031185\n",
              "PMO                          0.031185\n",
              "Business Analyst             0.029106\n",
              "DotNet Developer             0.029106\n",
              "Automation Testing           0.027027\n",
              "Network Security Engineer    0.025988\n",
              "SAP Developer                0.024948\n",
              "Civil Engineer               0.024948\n",
              "Advocate                     0.020790\n",
              "Name: Category, dtype: float64"
            ]
          },
          "metadata": {},
          "execution_count": 15
        }
      ],
      "source": [
        "# df=pd.read_csv(r\"C:\\Users\\acer\\Downloads\\UpdatedResumeDataSet.csv\\UpdatedResumeDataSet.csv\")\n",
        "df=pd.read_csv(\"/content/drive/MyDrive/nus-sds-train-data-set/UpdatedResumeDataSet.csv\")\n",
        "\n",
        "# dataset source https://www.kaggle.com/datasets/gauravduttakiit/resume-dataset\n",
        "\n",
        "df.info() # nice, all non null\n",
        "df['Category'].value_counts(normalize=True) # nt exactly suuuuper even but ok ah\n",
        "# can prob replicate those ard 40> get each category to around 80?"
      ]
    },
    {
      "cell_type": "code",
      "execution_count": 16,
      "metadata": {
        "colab": {
          "base_uri": "https://localhost:8080/",
          "height": 91
        },
        "id": "o80yQDugxLr1",
        "outputId": "90320978-5d2d-44ed-ff8a-57df338402d9"
      },
      "outputs": [
        {
          "output_type": "execute_result",
          "data": {
            "text/plain": [
              "\"\\nup_df=pd.DataFrame(columns=['Category','Resume'])\\nfor e in df['Category'].unique():\\n    cat=df[df['Category']==e]['Category']\\n    val_counts=cat.value_counts().values[0]\\n    up=80-val_counts\\n    if up<0:\\n        res=0\\n    elif up>val_counts:\\n        res=val_counts\\n    else:\\n        res=up\\n    for i,r in (df.iloc[(cat.sample(res).index)]).iterrows():\\n        up_df.loc[len(up_df)]=r\\nsample_df=pd.concat([df,up_df],axis=0)\""
            ],
            "application/vnd.google.colaboratory.intrinsic+json": {
              "type": "string"
            }
          },
          "metadata": {},
          "execution_count": 16
        }
      ],
      "source": [
        "'''\n",
        "up_df=pd.DataFrame(columns=['Category','Resume'])\n",
        "for e in df['Category'].unique():\n",
        "    cat=df[df['Category']==e]['Category']\n",
        "    val_counts=cat.value_counts().values[0]\n",
        "    up=80-val_counts\n",
        "    if up<0:\n",
        "        res=0\n",
        "    elif up>val_counts:\n",
        "        res=val_counts\n",
        "    else:\n",
        "        res=up\n",
        "    for i,r in (df.iloc[(cat.sample(res).index)]).iterrows():\n",
        "        up_df.loc[len(up_df)]=r\n",
        "sample_df=pd.concat([df,up_df],axis=0)'''\n",
        "# initial intentions were to upsamle the dataset via replacement; however given the number of\n",
        "# resamples required - would likely affect ability of model to accurately predict the data\n",
        "# (given that there'd be a high probability of \"predicting\" the data it had already been trained on)"
      ]
    },
    {
      "cell_type": "code",
      "execution_count": 16,
      "metadata": {
        "id": "h1qRAEuAxLr2"
      },
      "outputs": [],
      "source": []
    },
    {
      "cell_type": "code",
      "execution_count": 17,
      "metadata": {
        "colab": {
          "base_uri": "https://localhost:8080/"
        },
        "id": "35FyKwbBxLr2",
        "outputId": "f80fb1b0-7164-477b-93d5-745579121dc4"
      },
      "outputs": [
        {
          "output_type": "execute_result",
          "data": {
            "text/plain": [
              "Java Developer               0.087318\n",
              "Testing                      0.072765\n",
              "DevOps Engineer              0.057173\n",
              "Python Developer             0.049896\n",
              "Web Designing                0.046778\n",
              "HR                           0.045738\n",
              "Hadoop                       0.043659\n",
              "Blockchain                   0.041580\n",
              "ETL Developer                0.041580\n",
              "Operations Manager           0.041580\n",
              "Data Science                 0.041580\n",
              "Sales                        0.041580\n",
              "Mechanical Engineer          0.041580\n",
              "Arts                         0.037422\n",
              "Database                     0.034304\n",
              "Electrical Engineering       0.031185\n",
              "Health and fitness           0.031185\n",
              "PMO                          0.031185\n",
              "Business Analyst             0.029106\n",
              "DotNet Developer             0.029106\n",
              "Automation Testing           0.027027\n",
              "Network Security Engineer    0.025988\n",
              "SAP Developer                0.024948\n",
              "Civil Engineer               0.024948\n",
              "Advocate                     0.020790\n",
              "Name: Category, dtype: float64"
            ]
          },
          "metadata": {},
          "execution_count": 17
        }
      ],
      "source": [
        "sample_df=df\n",
        "sample_df['Category'].value_counts(normalize=True) # much more even distribution"
      ]
    },
    {
      "cell_type": "code",
      "execution_count": 18,
      "metadata": {
        "id": "Am_e_EdvxLr3",
        "colab": {
          "base_uri": "https://localhost:8080/"
        },
        "outputId": "8c747a5d-aae1-4700-b975-438a3903f6cd"
      },
      "outputs": [
        {
          "output_type": "execute_result",
          "data": {
            "text/plain": [
              "['Advocate',\n",
              " 'Arts',\n",
              " 'Automation Testing',\n",
              " 'Blockchain',\n",
              " 'Business Analyst',\n",
              " 'Civil Engineer',\n",
              " 'Data Science',\n",
              " 'Database',\n",
              " 'DevOps Engineer',\n",
              " 'DotNet Developer',\n",
              " 'ETL Developer',\n",
              " 'Electrical Engineering',\n",
              " 'HR',\n",
              " 'Hadoop',\n",
              " 'Health and fitness',\n",
              " 'Java Developer',\n",
              " 'Mechanical Engineer',\n",
              " 'Network Security Engineer',\n",
              " 'Operations Manager',\n",
              " 'PMO',\n",
              " 'Python Developer',\n",
              " 'SAP Developer',\n",
              " 'Sales',\n",
              " 'Testing',\n",
              " 'Web Designing']"
            ]
          },
          "metadata": {},
          "execution_count": 18
        }
      ],
      "source": [
        "## Time to clean the dataset\n",
        "\n",
        "# Analyse roles first > check if any overlap is present\n",
        "sorted(sample_df['Category'].unique()) # unique, all single cat,\n",
        "# no real overlap due to diff cases (Data Science vs data science)\n",
        "# will leave category as it is"
      ]
    },
    {
      "cell_type": "code",
      "execution_count": 19,
      "metadata": {
        "id": "AchwYMQwxLr3",
        "colab": {
          "base_uri": "https://localhost:8080/"
        },
        "outputId": "6f870967-ebde-449f-ed93-0b24d58f3df6"
      },
      "outputs": [
        {
          "output_type": "execute_result",
          "data": {
            "text/plain": [
              "0    Skills * Programming Languages: Python (pandas...\n",
              "1    Education Details \\r\\nMay 2013 to May 2017 B.E...\n",
              "2    Areas of Interest Deep Learning, Control Syste...\n",
              "3    Skills â¢ R â¢ Python â¢ SAP HANA â¢ Table...\n",
              "4    Education Details \\r\\n MCA   YMCAUST,  Faridab...\n",
              "Name: Resume, dtype: object"
            ]
          },
          "metadata": {},
          "execution_count": 19
        }
      ],
      "source": [
        "sample_df['Resume'].head() # for some resumes, have odd symbols (â¢/â )\n",
        "# could be due to diff encoding format; likely punctuation formats nt accepted\n",
        "# also contain newline char that are unnecessary: will focus on alphabets and numbers"
      ]
    },
    {
      "cell_type": "code",
      "execution_count": 20,
      "metadata": {
        "id": "r8UULku6xLr4",
        "colab": {
          "base_uri": "https://localhost:8080/"
        },
        "outputId": "62f719c2-99bf-40f6-ad61-2aab6cf1d053"
      },
      "outputs": [
        {
          "output_type": "execute_result",
          "data": {
            "text/plain": [
              "Java Developer               84\n",
              "Testing                      70\n",
              "DevOps Engineer              55\n",
              "Python Developer             48\n",
              "Web Designing                45\n",
              "HR                           44\n",
              "Hadoop                       42\n",
              "Blockchain                   40\n",
              "ETL Developer                40\n",
              "Operations Manager           40\n",
              "Data Science                 40\n",
              "Sales                        40\n",
              "Mechanical Engineer          40\n",
              "Arts                         36\n",
              "Database                     33\n",
              "Electrical Engineering       30\n",
              "Health and fitness           30\n",
              "PMO                          30\n",
              "Business Analyst             28\n",
              "DotNet Developer             28\n",
              "Automation Testing           26\n",
              "Network Security Engineer    25\n",
              "SAP Developer                24\n",
              "Civil Engineer               24\n",
              "Advocate                     20\n",
              "Name: Category, dtype: int64"
            ]
          },
          "metadata": {},
          "execution_count": 20
        }
      ],
      "source": [
        "sample_df['Category'].value_counts()"
      ]
    },
    {
      "cell_type": "code",
      "execution_count": 21,
      "metadata": {
        "id": "3V5feeSRxLr5"
      },
      "outputs": [],
      "source": [
        "sample_df['Resume']=sample_df['Resume'].apply(lambda x:str(' '.join(re.findall('[a-zA-Z0-9]+',x)).lower()))\n",
        "# get only letters and numbers; conver all to lowercase for standardization purposes\n",
        "# will mean focus won't be on tokenizing sentences; rather more so on keyword id <Tf-IDF?>\n",
        "# now will be to ID smth like common phrases/ words?\n",
        "# but first > training and testing data"
      ]
    },
    {
      "cell_type": "code",
      "execution_count": 22,
      "metadata": {
        "id": "43ou4zOzxLr6"
      },
      "outputs": [],
      "source": [
        "X_train,X_test,y_train,y_test = train_test_split(sample_df['Resume'],\\\n",
        "sample_df['Category'],stratify=sample_df['Category'],random_state=27)"
      ]
    },
    {
      "cell_type": "code",
      "execution_count": 23,
      "metadata": {
        "id": "vwluLiidxLr6",
        "colab": {
          "base_uri": "https://localhost:8080/",
          "height": 448
        },
        "outputId": "f9f8f501-30d3-4f86-a4d8-3d8c3be49068"
      },
      "outputs": [
        {
          "output_type": "execute_result",
          "data": {
            "text/plain": [
              "<Axes: >"
            ]
          },
          "metadata": {},
          "execution_count": 23
        },
        {
          "output_type": "display_data",
          "data": {
            "text/plain": [
              "<Figure size 640x480 with 1 Axes>"
            ],
            "image/png": "[encoded data removed]"
          },
          "metadata": {}
        }
      ],
      "source": [
        "## NLTK > could look at TFIDF/ n-gram bag of words > key is to get smth dense;\n",
        "# don't want a sparse vector for a model to be trained on\n",
        "# have to consider fluff stop words as well > id only the key words;\n",
        "# but for word2vec approach - overall meaning of sentences wld be useful\n",
        "\n",
        "# speaking of\n",
        "\n",
        "X_train.str.len().plot(kind='box') # q a large range, w decent number of outliers\n",
        "# will monitor effect on dataset but for now will proceed with modelling"
      ]
    },
    {
      "cell_type": "code",
      "execution_count": 24,
      "metadata": {
        "id": "UTtXnQAKxLr7",
        "colab": {
          "base_uri": "https://localhost:8080/"
        },
        "outputId": "4fb166ff-ab1f-4da2-ea27-d5fb21afdf5b"
      },
      "outputs": [
        {
          "output_type": "execute_result",
          "data": {
            "text/plain": [
              "(721, 7276)"
            ]
          },
          "metadata": {},
          "execution_count": 24
        }
      ],
      "source": [
        "# as for creating vectors\n",
        "vector=TfidfVectorizer(stop_words='english')\n",
        "X_mod_train=vector.fit_transform(X_train)\n",
        "X_mod_train.toarray().shape"
      ]
    },
    {
      "cell_type": "code",
      "execution_count": 25,
      "metadata": {
        "id": "LeKfkMJexLr8"
      },
      "outputs": [],
      "source": [
        "encoder = preprocessing.LabelEncoder()\n",
        "y_mod_train=encoder.fit_transform(y_train)"
      ]
    },
    {
      "cell_type": "code",
      "execution_count": 26,
      "metadata": {
        "id": "WsB9JU4-xLr8",
        "colab": {
          "base_uri": "https://localhost:8080/",
          "height": 75
        },
        "outputId": "77ee32f7-d4ad-4527-9e49-0d38224d1e37"
      },
      "outputs": [
        {
          "output_type": "execute_result",
          "data": {
            "text/plain": [
              "GradientBoostingClassifier(max_depth=1)"
            ],
            "text/html": [
              "<style>#sk-container-id-1 {color: black;background-color: white;}#sk-container-id-1 pre{padding: 0;}#sk-container-id-1 div.sk-toggleable {background-color: white;}#sk-container-id-1 label.sk-toggleable__label {cursor: pointer;display: block;width: 100%;margin-bottom: 0;padding: 0.3em;box-sizing: border-box;text-align: center;}#sk-container-id-1 label.sk-toggleable__label-arrow:before {content: \"▸\";float: left;margin-right: 0.25em;color: #696969;}#sk-container-id-1 label.sk-toggleable__label-arrow:hover:before {color: black;}#sk-container-id-1 div.sk-estimator:hover label.sk-toggleable__label-arrow:before {color: black;}#sk-container-id-1 div.sk-toggleable__content {max-height: 0;max-width: 0;overflow: hidden;text-align: left;background-color: #f0f8ff;}#sk-container-id-1 div.sk-toggleable__content pre {margin: 0.2em;color: black;border-radius: 0.25em;background-color: #f0f8ff;}#sk-container-id-1 input.sk-toggleable__control:checked~div.sk-toggleable__content {max-height: 200px;max-width: 100%;overflow: auto;}#sk-container-id-1 input.sk-toggleable__control:checked~label.sk-toggleable__label-arrow:before {content: \"▾\";}#sk-container-id-1 div.sk-estimator input.sk-toggleable__control:checked~label.sk-toggleable__label {background-color: #d4ebff;}#sk-container-id-1 div.sk-label input.sk-toggleable__control:checked~label.sk-toggleable__label {background-color: #d4ebff;}#sk-container-id-1 input.sk-hidden--visually {border: 0;clip: rect(1px 1px 1px 1px);clip: rect(1px, 1px, 1px, 1px);height: 1px;margin: -1px;overflow: hidden;padding: 0;position: absolute;width: 1px;}#sk-container-id-1 div.sk-estimator {font-family: monospace;background-color: #f0f8ff;border: 1px dotted black;border-radius: 0.25em;box-sizing: border-box;margin-bottom: 0.5em;}#sk-container-id-1 div.sk-estimator:hover {background-color: #d4ebff;}#sk-container-id-1 div.sk-parallel-item::after {content: \"\";width: 100%;border-bottom: 1px solid gray;flex-grow: 1;}#sk-container-id-1 div.sk-label:hover label.sk-toggleable__label {background-color: #d4ebff;}#sk-container-id-1 div.sk-serial::before {content: \"\";position: absolute;border-left: 1px solid gray;box-sizing: border-box;top: 0;bottom: 0;left: 50%;z-index: 0;}#sk-container-id-1 div.sk-serial {display: flex;flex-direction: column;align-items: center;background-color: white;padding-right: 0.2em;padding-left: 0.2em;position: relative;}#sk-container-id-1 div.sk-item {position: relative;z-index: 1;}#sk-container-id-1 div.sk-parallel {display: flex;align-items: stretch;justify-content: center;background-color: white;position: relative;}#sk-container-id-1 div.sk-item::before, #sk-container-id-1 div.sk-parallel-item::before {content: \"\";position: absolute;border-left: 1px solid gray;box-sizing: border-box;top: 0;bottom: 0;left: 50%;z-index: -1;}#sk-container-id-1 div.sk-parallel-item {display: flex;flex-direction: column;z-index: 1;position: relative;background-color: white;}#sk-container-id-1 div.sk-parallel-item:first-child::after {align-self: flex-end;width: 50%;}#sk-container-id-1 div.sk-parallel-item:last-child::after {align-self: flex-start;width: 50%;}#sk-container-id-1 div.sk-parallel-item:only-child::after {width: 0;}#sk-container-id-1 div.sk-dashed-wrapped {border: 1px dashed gray;margin: 0 0.4em 0.5em 0.4em;box-sizing: border-box;padding-bottom: 0.4em;background-color: white;}#sk-container-id-1 div.sk-label label {font-family: monospace;font-weight: bold;display: inline-block;line-height: 1.2em;}#sk-container-id-1 div.sk-label-container {text-align: center;}#sk-container-id-1 div.sk-container {/* jupyter's `normalize.less` sets `[hidden] { display: none; }` but bootstrap.min.css set `[hidden] { display: none !important; }` so we also need the `!important` here to be able to override the default hidden behavior on the sphinx rendered scikit-learn.org. See: https://github.com/scikit-learn/scikit-learn/issues/21755 */display: inline-block !important;position: relative;}#sk-container-id-1 div.sk-text-repr-fallback {display: none;}</style><div id=\"sk-container-id-1\" class=\"sk-top-container\"><div class=\"sk-text-repr-fallback\"><pre>GradientBoostingClassifier(max_depth=1)</pre><b>In a Jupyter environment, please rerun this cell to show the HTML representation or trust the notebook. <br />On GitHub, the HTML representation is unable to render, please try loading this page with nbviewer.org.</b></div><div class=\"sk-container\" hidden><div class=\"sk-item\"><div class=\"sk-estimator sk-toggleable\"><input class=\"sk-toggleable__control sk-hidden--visually\" id=\"sk-estimator-id-1\" type=\"checkbox\" checked><label for=\"sk-estimator-id-1\" class=\"sk-toggleable__label sk-toggleable__label-arrow\">GradientBoostingClassifier</label><div class=\"sk-toggleable__content\"><pre>GradientBoostingClassifier(max_depth=1)</pre></div></div></div></div></div>"
            ]
          },
          "metadata": {},
          "execution_count": 26
        }
      ],
      "source": [
        "clf = GradientBoostingClassifier(max_depth=1)\n",
        "clf.fit(X_mod_train,y_mod_train)"
      ]
    },
    {
      "cell_type": "code",
      "execution_count": 27,
      "metadata": {
        "id": "VZUhXgRixLr8"
      },
      "outputs": [],
      "source": [
        "X_mod_test=vector.transform(X_test)\n",
        "y_mod_test=encoder.transform(y_test)\n",
        "\n",
        "y_pred = clf.predict(X_mod_test)"
      ]
    },
    {
      "cell_type": "code",
      "execution_count": 28,
      "metadata": {
        "id": "FGiONS8bxLr8",
        "colab": {
          "base_uri": "https://localhost:8080/"
        },
        "outputId": "e1e7d0b3-38bf-44b9-b4af-ff1ca2ad6d8d"
      },
      "outputs": [
        {
          "output_type": "stream",
          "name": "stdout",
          "text": [
            "                           precision    recall  f1-score   support\n",
            "\n",
            "                 Advocate       1.00      1.00      1.00         5\n",
            "                     Arts       1.00      1.00      1.00         9\n",
            "       Automation Testing       1.00      1.00      1.00         6\n",
            "               Blockchain       1.00      1.00      1.00        10\n",
            "         Business Analyst       1.00      1.00      1.00         7\n",
            "           Civil Engineer       1.00      1.00      1.00         6\n",
            "             Data Science       1.00      1.00      1.00        10\n",
            "                 Database       1.00      1.00      1.00         8\n",
            "          DevOps Engineer       1.00      1.00      1.00        14\n",
            "         DotNet Developer       1.00      1.00      1.00         7\n",
            "            ETL Developer       1.00      1.00      1.00        10\n",
            "   Electrical Engineering       1.00      1.00      1.00         7\n",
            "                       HR       1.00      1.00      1.00        11\n",
            "                   Hadoop       1.00      1.00      1.00        11\n",
            "       Health and fitness       1.00      1.00      1.00         8\n",
            "           Java Developer       1.00      1.00      1.00        21\n",
            "      Mechanical Engineer       1.00      1.00      1.00        10\n",
            "Network Security Engineer       1.00      1.00      1.00         6\n",
            "       Operations Manager       1.00      1.00      1.00        10\n",
            "                      PMO       1.00      1.00      1.00         8\n",
            "         Python Developer       1.00      1.00      1.00        12\n",
            "            SAP Developer       1.00      1.00      1.00         6\n",
            "                    Sales       1.00      1.00      1.00        10\n",
            "                  Testing       1.00      1.00      1.00        18\n",
            "            Web Designing       1.00      1.00      1.00        11\n",
            "\n",
            "                 accuracy                           1.00       241\n",
            "                macro avg       1.00      1.00      1.00       241\n",
            "             weighted avg       1.00      1.00      1.00       241\n",
            "\n"
          ]
        }
      ],
      "source": [
        "print(classification_report(y_mod_test,y_pred,target_names=encoder.classes_)) # Impressive!"
      ]
    },
    {
      "cell_type": "code",
      "execution_count": 29,
      "metadata": {
        "id": "L_60F3TsxLr8",
        "colab": {
          "base_uri": "https://localhost:8080/"
        },
        "outputId": "d97a5f2d-d57b-4cca-8e71-d822b0ea9d2d"
      },
      "outputs": [
        {
          "output_type": "stream",
          "name": "stdout",
          "text": [
            "raw_resume_1 role prediction: Data Science\n",
            "raw_resume_2 role prediction: Python Developer\n"
          ]
        }
      ],
      "source": [
        "raw_resume_1 = '''Hello there, my name is <name>. I am interested in this position, having had\n",
        "significant experience in Python programming and SQL. I am also extremely familiar with\n",
        "Microsoft Excel and PowerBI.\n",
        "I am currently an undergraduate of the National University of Singapore in Data Science and Analysis.\n",
        "\n",
        "I have\n",
        "had prior experience in programming for 3 years and am familiar with most\n",
        "machine-learning models, ranging from\n",
        "Logistic Regression Algorithms to Gradient Boosting Algorithms to Kmeans and Apriori algorithms.\n",
        "I have also had past experience in working on a company's project related to Data Analysis; focusing on\n",
        "statistcal data analysis of companies to determine capable ones to invest in.\n",
        "It is with such experience that I believe I will be able to play a great role in the position offered'''\n",
        "\n",
        "raw_resume_2 = '''Hello there, my name is <name>. I am interested in this position, having had\n",
        "significant experience in Python programming for nearly 3 years.\n",
        "\n",
        "I am also extremely\n",
        "familiar with other programming languages\n",
        "such as JavaScript and SQL, and am currently an undergraduate of the National\n",
        "University of Singapore in Data Science and Analytics.\n",
        "I have coded my own personal projects in Python, ranging from Telegram Bots for ticketing\n",
        "systems to Image recognition software for outlining objects. While not having had any prior\n",
        "experience in a company, I believe that with my fervent desire in Python and the skills I have\n",
        "acquired over the years, I will be able to play a deep role in the position offered.'''\n",
        "\n",
        "def resume_predictor(raw_resume):\n",
        "    resume_processed = ' '.join(re.findall('[a-zA-Z0-9]+',raw_resume)).lower()\n",
        "    vec=vector.transform([resume_processed])\n",
        "    return encoder.classes_[clf.predict(vec)[0]]\n",
        "\n",
        "print('raw_resume_1 role prediction:',resume_predictor(raw_resume_1))\n",
        "print('raw_resume_2 role prediction:',resume_predictor(raw_resume_2))\n",
        "# NICE > especially considering relative similarity of resumes in terms of syntax structure and all"
      ]
    },
    {
      "cell_type": "code",
      "source": [
        "import re\n",
        "import pickle\n",
        "from sklearn.base import BaseEstimator, TransformerMixin\n",
        "from sklearn.pipeline import Pipeline\n",
        "\n",
        "# 1. Create a custom transformer\n",
        "class ResumeTransformer(BaseEstimator, TransformerMixin):\n",
        "    def fit(self, X, y=None):\n",
        "        return self\n",
        "\n",
        "    def transform(self, X, y=None):\n",
        "        # Process each resume in X\n",
        "        transformed_data = []\n",
        "        for resume in X:\n",
        "            processed_resume = ' '.join(re.findall('[a-zA-Z0-9]+', resume)).lower()\n",
        "            transformed_data.append(processed_resume)\n",
        "        return transformed_data\n",
        "\n",
        "# Assuming you've defined 'vector', 'clf', and 'encoder' earlier in your code\n",
        "\n",
        "# 2. Construct the pipeline\n",
        "pipeline = Pipeline([\n",
        "    ('resume_transformer', ResumeTransformer()),\n",
        "    ('vectorizer', vector),\n",
        "    ('classifier', clf)\n",
        "])\n",
        "\n",
        "# 3. Save the pipeline to a pickle file\n",
        "with open(\"resume_pipeline.pkl\", \"wb\") as f:\n",
        "    pickle.dump(pipeline, f)"
      ],
      "metadata": {
        "id": "wJoICqoS1pz_"
      },
      "execution_count": 32,
      "outputs": []
    }
  ],
  "metadata": {
    "kernelspec": {
      "display_name": "Python 3",
      "language": "python",
      "name": "python3"
    },
    "language_info": {
      "codemirror_mode": {
        "name": "ipython",
        "version": 3
      },
      "file_extension": ".py",
      "mimetype": "text/x-python",
      "name": "python",
      "nbconvert_exporter": "python",
      "pygments_lexer": "ipython3",
      "version": "3.11.4"
    },
    "orig_nbformat": 4,
    "colab": {
      "provenance": []
    }
  },
  "nbformat": 4,
  "nbformat_minor": 0
}